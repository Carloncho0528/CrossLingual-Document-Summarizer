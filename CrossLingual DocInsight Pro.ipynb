{
 "cells": [
  {
   "cell_type": "code",
   "execution_count": 1,
   "id": "96df0737",
   "metadata": {},
   "outputs": [],
   "source": [
    "import tkinter as tk\n",
    "from tkinter import filedialog, messagebox\n",
    "import pypdf\n",
    "import nltk\n",
    "from nltk.corpus import stopwords\n",
    "from nltk.tokenize import word_tokenize\n",
    "from nltk.probability import FreqDist\n",
    "\n",
    "nltk.download('punkt', quiet=True)\n",
    "nltk.download('stopwords', quiet=True)\n",
    "\n",
    "def read_pdf(file_path):\n",
    "    with open(file_path, 'rb') as file:\n",
    "        reader = pypdf.PdfReader(file)\n",
    "        text = \"\"\n",
    "        for page in reader.pages:\n",
    "            text += page.extract_text() + \"\\n\"\n",
    "    return text\n",
    "\n",
    "def extract_topics(text, num_topics=5):\n",
    "    words = word_tokenize(text.lower(), language='spanish')\n",
    "    stop_words = set(stopwords.words('spanish'))\n",
    "    word_freq = FreqDist(word for word in words if word not in stop_words and word.isalnum())\n",
    "    return [word for word, _ in word_freq.most_common(num_topics)]\n",
    "\n",
    "class PDFAnalyzerApp(tk.Tk):\n",
    "    def __init__(self):\n",
    "        super().__init__()\n",
    "        self.title(\"Analizador de PDF - Demo\")\n",
    "        self.geometry(\"400x300\")\n",
    "        self.create_widgets()\n",
    "\n",
    "    def create_widgets(self):\n",
    "        tk.Label(self, text=\"Analizador de PDF\", font=(\"Helvetica\", 16)).pack(pady=10)\n",
    "        tk.Button(self, text=\"Seleccionar PDF\", command=self.analyze_pdf).pack(pady=10)\n",
    "        self.result_text = tk.Text(self, height=10, width=40)\n",
    "        self.result_text.pack(pady=10)\n",
    "        tk.Button(self, text=\"Salir\", command=self.quit).pack(pady=10)\n",
    "\n",
    "    def analyze_pdf(self):\n",
    "        file_path = filedialog.askopenfilename(filetypes=[(\"PDF files\", \"*.pdf\")])\n",
    "        if file_path:\n",
    "            try:\n",
    "                text = read_pdf(file_path)\n",
    "                topics = extract_topics(text)\n",
    "                result = \"Temas principales:\\n\" + \"\\n\".join(topics)\n",
    "                self.result_text.delete(1.0, tk.END)\n",
    "                self.result_text.insert(tk.END, result)\n",
    "            except Exception as e:\n",
    "                messagebox.showerror(\"Error\", f\"No se pudo procesar el archivo: {str(e)}\")\n",
    "\n",
    "if __name__ == \"__main__\":\n",
    "    app = PDFAnalyzerApp()\n",
    "    app.mainloop()"
   ]
  },
  {
   "cell_type": "code",
   "execution_count": null,
   "id": "a0cc126c",
   "metadata": {},
   "outputs": [],
   "source": []
  }
 ],
 "metadata": {
  "kernelspec": {
   "display_name": "Python 3 (ipykernel)",
   "language": "python",
   "name": "python3"
  },
  "language_info": {
   "codemirror_mode": {
    "name": "ipython",
    "version": 3
   },
   "file_extension": ".py",
   "mimetype": "text/x-python",
   "name": "python",
   "nbconvert_exporter": "python",
   "pygments_lexer": "ipython3",
   "version": "3.10.9"
  }
 },
 "nbformat": 4,
 "nbformat_minor": 5
}
